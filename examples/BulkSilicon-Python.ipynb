{
 "cells": [
  {
   "cell_type": "markdown",
   "metadata": {},
   "source": [
    "# Vacancy in a Silicon Cluster\n"
   ]
  },
  {
   "cell_type": "code",
   "execution_count": 3,
   "metadata": {
    "collapsed": false
   },
   "outputs": [],
   "source": [
    "import sys\n",
    "sys.path.insert(0, '../temp')\n",
    "\n",
    "from julip import JulipCalculator\n",
    "from ase.build import bulk"
   ]
  },
  {
   "cell_type": "code",
   "execution_count": 7,
   "metadata": {
    "collapsed": false
   },
   "outputs": [],
   "source": [
    "# reference energy\n",
    "#   energy per unit volume of a homogeneous silicon crystal \n",
    "at = bulk(\"Si\")\n",
    "calc = JulipCalculator(\"JuLIP.Potentials.StillingerWeber()\")\n",
    "at.set_calculator(calc)\n",
    "Eref = at.get_potential_energy()"
   ]
  },
  {
   "cell_type": "code",
   "execution_count": 8,
   "metadata": {
    "collapsed": false
   },
   "outputs": [
    {
     "data": {
      "text/plain": [
       "-22.497579307541823"
      ]
     },
     "execution_count": 8,
     "metadata": {},
     "output_type": "execute_result"
    }
   ],
   "source": [
    "Eref"
   ]
  },
  {
   "cell_type": "code",
   "execution_count": 13,
   "metadata": {
    "collapsed": false
   },
   "outputs": [],
   "source": [
    "# cluster with vacancy\n",
    "at = bulk(\"Si\", cubic=True) * (4, 4, 4)\n",
    "del at[len(at) /2]\n",
    "at.set_calculator(calc)\n",
    "# energy before relaxing\n",
    "E0 = at.get_potential_energy()"
   ]
  },
  {
   "cell_type": "code",
   "execution_count": 17,
   "metadata": {
    "collapsed": false
   },
   "outputs": [
    {
     "name": "stdout",
     "output_type": "stream",
     "text": [
      "LBFGSLineSearch:   0  16:04:33    -5742.080647       1.3485\n",
      "LBFGSLineSearch:   1  16:04:33    -5743.415401       1.2155\n",
      "LBFGSLineSearch:   2  16:04:33    -5743.555815       0.8272\n",
      "LBFGSLineSearch:   3  16:04:33    -5743.987516       0.3061\n",
      "LBFGSLineSearch:   4  16:04:33    -5744.050050       0.2323\n",
      "LBFGSLineSearch:   5  16:04:33    -5744.087499       0.1236\n",
      "LBFGSLineSearch:   6  16:04:33    -5744.104034       0.0952\n",
      "LBFGSLineSearch:   7  16:04:33    -5744.116326       0.0900\n",
      "LBFGSLineSearch:   8  16:04:33    -5744.125407       0.0631\n",
      "LBFGSLineSearch:   9  16:04:33    -5744.130051       0.0661\n",
      "LBFGSLineSearch:  10  16:04:33    -5744.133618       0.0486\n",
      "LBFGSLineSearch:  11  16:04:33    -5744.136460       0.0384\n",
      "LBFGSLineSearch:  12  16:04:33    -5744.138589       0.0398\n",
      "LBFGSLineSearch:  13  16:04:33    -5744.140178       0.0307\n",
      "LBFGSLineSearch:  14  16:04:34    -5744.141491       0.0286\n",
      "LBFGSLineSearch:  15  16:04:34    -5744.142430       0.0192\n",
      "LBFGSLineSearch:  16  16:04:34    -5744.142975       0.0162\n",
      "LBFGSLineSearch:  17  16:04:34    -5744.143294       0.0121\n",
      "LBFGSLineSearch:  18  16:04:34    -5744.143529       0.0092\n",
      "LBFGSLineSearch:  19  16:04:34    -5744.143708       0.0071\n",
      "LBFGSLineSearch:  20  16:04:34    -5744.143832       0.0084\n",
      "LBFGSLineSearch:  21  16:04:34    -5744.143920       0.0087\n",
      "LBFGSLineSearch:  22  16:04:34    -5744.143990       0.0056\n",
      "LBFGSLineSearch:  23  16:04:34    -5744.144043       0.0036\n",
      "LBFGSLineSearch:  24  16:04:34    -5744.144080       0.0033\n",
      "LBFGSLineSearch:  25  16:04:34    -5744.144108       0.0041\n",
      "LBFGSLineSearch:  26  16:04:34    -5744.144128       0.0036\n",
      "LBFGSLineSearch:  27  16:04:34    -5744.144140       0.0020\n",
      "LBFGSLineSearch:  28  16:04:34    -5744.144147       0.0014\n",
      "LBFGSLineSearch:  29  16:04:34    -5744.144151       0.0011\n",
      "LBFGSLineSearch:  30  16:04:34    -5744.144153       0.0010\n"
     ]
    }
   ],
   "source": [
    "# geometry optimisation\n",
    "from ase.optimize import LBFGSLineSearch\n",
    "opt = LBFGSLineSearch(at)\n",
    "opt.run(1e-3)\n",
    "E1 = at.get_potential_energy()"
   ]
  },
  {
   "cell_type": "code",
   "execution_count": 18,
   "metadata": {
    "collapsed": false
   },
   "outputs": [
    {
     "name": "stdout",
     "output_type": "stream",
     "text": [
      "('Vacancy Formation Energy without relaxing: ', 22.497579307540946)\n",
      "('Vacancy Formation Energy   with  relaxing: ', 15.236149261249011)\n"
     ]
    }
   ],
   "source": [
    "# defect formation energy \n",
    "print(\"Vacancy Formation Energy without relaxing: \", E0 - (len(at)+1)*Eref/2)\n",
    "print(\"Vacancy Formation Energy   with  relaxing: \", E1 - (len(at)+1)*Eref/2)"
   ]
  }
 ],
 "metadata": {
  "kernelspec": {
   "display_name": "Python 2",
   "language": "python",
   "name": "python2"
  },
  "language_info": {
   "codemirror_mode": {
    "name": "ipython",
    "version": 2
   },
   "file_extension": ".py",
   "mimetype": "text/x-python",
   "name": "python",
   "nbconvert_exporter": "python",
   "pygments_lexer": "ipython2",
   "version": "2.7.12"
  }
 },
 "nbformat": 4,
 "nbformat_minor": 0
}
